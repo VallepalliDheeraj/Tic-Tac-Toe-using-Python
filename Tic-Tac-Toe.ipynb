{
 "cells": [
  {
   "cell_type": "code",
   "execution_count": 1,
   "id": "553e2624",
   "metadata": {},
   "outputs": [],
   "source": [
    "from IPython.display import clear_output\n",
    "def display_board(test_board):\n",
    "    clear_output()\n",
    "    print(test_board[7]+'|'+test_board[8]+'|'+test_board[9])\n",
    "    print(test_board[4]+'|'+test_board[5]+'|'+test_board[6])\n",
    "    print(test_board[1]+'|'+test_board[2]+'|'+test_board[3])"
   ]
  },
  {
   "cell_type": "code",
   "execution_count": 2,
   "id": "359d8a26",
   "metadata": {},
   "outputs": [],
   "source": [
    "def player_symbol():\n",
    "    player1_symbol=''\n",
    "    player1_symbol=input(\"Enter the choice of Player 1: \")\n",
    "    return player1_symbol"
   ]
  },
  {
   "cell_type": "code",
   "execution_count": 3,
   "id": "42fc2a32",
   "metadata": {},
   "outputs": [],
   "source": [
    "import random\n",
    "\n",
    "def choice_first():\n",
    "    flip=random.randint(0,1)\n",
    "    \n",
    "    if flip==0:\n",
    "        return 'Player 1'\n",
    "    else:\n",
    "        return 'Player 2'"
   ]
  },
  {
   "cell_type": "code",
   "execution_count": 4,
   "id": "05fcefa8",
   "metadata": {},
   "outputs": [],
   "source": [
    "def player_choice(test_board):\n",
    "    pos=0\n",
    "    \n",
    "    while pos not in [1,2,3,4,5,6,7,8,9] or test_board[pos]!=' ':\n",
    "        pos=int(input(\"choose an valid position: \"))\n",
    "    return pos"
   ]
  },
  {
   "cell_type": "code",
   "execution_count": 5,
   "id": "7923b404",
   "metadata": {},
   "outputs": [],
   "source": [
    "def place_marker(test_board,position,marker):\n",
    "    test_board[position]=marker"
   ]
  },
  {
   "cell_type": "code",
   "execution_count": 6,
   "id": "517b5a07",
   "metadata": {},
   "outputs": [],
   "source": [
    "def win_check(test_board,mark):\n",
    "    b1= (test_board[1]== mark) and (test_board[2]== mark) and (test_board[3]==mark)\n",
    "    b2= (test_board[4]== mark) and (test_board[5]== mark) and (test_board[6]==mark)\n",
    "    b3= (test_board[7]== mark) and (test_board[8]== mark) and (test_board[9]==mark)\n",
    "    b4= (test_board[1]== mark) and (test_board[4]== mark) and (test_board[7]==mark)\n",
    "    b5= (test_board[2]== mark) and (test_board[5]== mark) and (test_board[8]==mark)\n",
    "    b6= (test_board[3]== mark) and (test_board[6]== mark) and (test_board[9]==mark)\n",
    "    b7= (test_board[1]== mark) and (test_board[5]== mark) and (test_board[9]==mark)\n",
    "    b8= (test_board[3]== mark) and (test_board[5]== mark) and (test_board[7]==mark)\n",
    "    \n",
    "    return (b1 or b2 or b3 or b4 or b5 or b6 or b7 or b8)\n",
    "    "
   ]
  },
  {
   "cell_type": "code",
   "execution_count": 7,
   "id": "de1b2dc2",
   "metadata": {},
   "outputs": [],
   "source": [
    "def full_check(test_board):\n",
    "    for i in range(1,10):\n",
    "        if test_board[i]==' ':\n",
    "            return False\n",
    "    return True"
   ]
  },
  {
   "cell_type": "code",
   "execution_count": 8,
   "id": "1a77183b",
   "metadata": {},
   "outputs": [],
   "source": [
    "def main_game():\n",
    "    \n",
    "    print(\"Welcome to Tic-Tac-Toe game!!\")\n",
    "    board=[' ']*10\n",
    "    player1_marker=player_symbol()\n",
    "    if(player1_marker=='X'):\n",
    "        player2_marker='O'\n",
    "    else:\n",
    "        player2_marker='X'\n",
    "    \n",
    "    turn=choice_first()\n",
    "    print(turn+' will play first')\n",
    "    \n",
    "    game_on=input(\"Would you like to play the game? YES/NO\")\n",
    "    \n",
    "    while game_on==\"YES\":\n",
    "        if turn=='Player 1':\n",
    "            \n",
    "            #do the neccessary items\n",
    "            display_board(board)\n",
    "            position=player_choice(board)\n",
    "            place_marker(board,position,player1_marker)\n",
    "            \n",
    "            if win_check(board,player1_marker):\n",
    "                display_board(board)\n",
    "                print(\"PLAYER 1 HAS WON !!\")\n",
    "                game_on=False\n",
    "                \n",
    "            else:\n",
    "                if full_check(board):\n",
    "                    display_board(board)\n",
    "                    print(\"TIE !!\")\n",
    "                    game_on=False\n",
    "                    \n",
    "                else:\n",
    "                    turn='Player 2'\n",
    "                \n",
    "            \n",
    "        else:\n",
    "            \n",
    "            #do the neccessary items\n",
    "            display_board(board)\n",
    "            position=player_choice(board)\n",
    "            place_marker(board,position,player2_marker)\n",
    "            \n",
    "            if win_check(board,player2_marker):\n",
    "                display_board(board)\n",
    "                print(\"PLAYER 2 HAS WON !!\")\n",
    "                game_on=False\n",
    "                \n",
    "            else:\n",
    "                if full_check(board):\n",
    "                    display_board(board)\n",
    "                    print(\"TIE !!\")\n",
    "                    game_on=False\n",
    "                    \n",
    "                else:\n",
    "                    turn='Player 1'"
   ]
  },
  {
   "cell_type": "code",
   "execution_count": 10,
   "id": "6e7ef61f",
   "metadata": {},
   "outputs": [
    {
     "name": "stdout",
     "output_type": "stream",
     "text": [
      "X|O|O\n",
      "O|O|X\n",
      "X|O|X\n",
      "PLAYER 1 HAS WON !!\n"
     ]
    }
   ],
   "source": [
    "main_game()"
   ]
  },
  {
   "cell_type": "code",
   "execution_count": null,
   "id": "e13fe053",
   "metadata": {},
   "outputs": [],
   "source": []
  }
 ],
 "metadata": {
  "kernelspec": {
   "display_name": "Python 3 (ipykernel)",
   "language": "python",
   "name": "python3"
  },
  "language_info": {
   "codemirror_mode": {
    "name": "ipython",
    "version": 3
   },
   "file_extension": ".py",
   "mimetype": "text/x-python",
   "name": "python",
   "nbconvert_exporter": "python",
   "pygments_lexer": "ipython3",
   "version": "3.9.13"
  }
 },
 "nbformat": 4,
 "nbformat_minor": 5
}
